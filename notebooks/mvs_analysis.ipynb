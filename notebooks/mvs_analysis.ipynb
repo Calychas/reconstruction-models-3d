{
 "cells": [
  {
   "cell_type": "code",
   "execution_count": 1,
   "metadata": {
    "collapsed": true
   },
   "outputs": [],
   "source": [
    "import os\n",
    "import pandas as pd\n",
    "import seaborn as sns\n",
    "from PIL import Image\n",
    "import numpy as np\n",
    "import matplotlib.pyplot as plt\n",
    "\n",
    "path_to_mvs_images = \"../data/mvs_dataset/images\"\n",
    "path_to_mvs_models = \"../data/mvs_dataset/point_clouds\"\n"
   ]
  },
  {
   "cell_type": "code",
   "execution_count": 14,
   "outputs": [],
   "source": [
    "files_in_models_folder = os.listdir(path_to_mvs_models)\n",
    "number_of_models = len(files_in_models_folder)"
   ],
   "metadata": {
    "collapsed": false,
    "pycharm": {
     "name": "#%%\n"
    }
   }
  },
  {
   "cell_type": "code",
   "execution_count": 21,
   "outputs": [],
   "source": [
    "images_with_models_paths = []\n",
    "number_of_images_for_model = []\n",
    "images_folders = os.listdir(path_to_mvs_images)\n",
    "for image_folder in images_folders:\n",
    "    image_folder_path = path_to_mvs_images + os.path.sep + image_folder\n",
    "    if os.path.isdir(image_folder_path):\n",
    "        images_paths = os.listdir(image_folder_path)\n",
    "        if len(images_paths) >0:\n",
    "            number_of_images_for_model.append(len(images_paths))\n",
    "            for image_path in images_paths:\n",
    "                images_with_models_paths.append(image_folder_path + os.path.sep + image_path)"
   ],
   "metadata": {
    "collapsed": false,
    "pycharm": {
     "name": "#%%\n"
    }
   }
  },
  {
   "cell_type": "code",
   "execution_count": 24,
   "outputs": [
    {
     "name": "stderr",
     "output_type": "stream",
     "text": [
      "c:\\users\\filip\\anaconda3\\envs\\kaolin\\lib\\site-packages\\seaborn\\_decorators.py:43: FutureWarning: Pass the following variable as a keyword arg: x. From version 0.12, the only valid positional argument will be `data`, and passing other arguments without an explicit keyword will result in an error or misinterpretation.\n",
      "  FutureWarning\n"
     ]
    },
    {
     "data": {
      "text/plain": "<Figure size 432x288 with 1 Axes>",
      "image/png": "[encoded data removed]"
     },
     "metadata": {
      "needs_background": "light"
     },
     "output_type": "display_data"
    }
   ],
   "source": [
    "sns.countplot(number_of_images_for_model)\n",
    "plt.title(\"Wykres słupkowy liczby zdjęć dla modeli\")\n",
    "plt.xlabel(\"Liczba zdjęć\")\n",
    "plt.ylabel(\"Liczba modeli\")\n",
    "plt.savefig(\"../reports/figures/mvs_number_of_images_for_models.png\")"
   ],
   "metadata": {
    "collapsed": false,
    "pycharm": {
     "name": "#%%\n"
    }
   }
  },
  {
   "cell_type": "code",
   "execution_count": 16,
   "outputs": [],
   "source": [
    "df = pd.DataFrame(data={\"path\": images_with_models_paths})"
   ],
   "metadata": {
    "collapsed": false,
    "pycharm": {
     "name": "#%%\n"
    }
   }
  },
  {
   "cell_type": "code",
   "execution_count": 17,
   "outputs": [
    {
     "name": "stdout",
     "output_type": "stream",
     "text": [
      "Number of models in the ShapeNet dataset: 124\n",
      "Number of images for models in the ShapeNet dataset: 6781\n"
     ]
    }
   ],
   "source": [
    "print(f\"Number of models in the ShapeNet dataset: {number_of_models}\")\n",
    "print(f\"Number of images for models in the ShapeNet dataset: {df['path'].count()}\")\n"
   ],
   "metadata": {
    "collapsed": false,
    "pycharm": {
     "name": "#%%\n"
    }
   }
  },
  {
   "cell_type": "code",
   "execution_count": 25,
   "outputs": [],
   "source": [
    "get_file_format = lambda path: path.split(\".\")[-1]\n",
    "df['file_format'] = df['path'].apply(get_file_format)"
   ],
   "metadata": {
    "collapsed": false,
    "pycharm": {
     "name": "#%%\n"
    }
   }
  },
  {
   "cell_type": "code",
   "execution_count": 26,
   "outputs": [
    {
     "data": {
      "text/plain": "array(['png'], dtype=object)"
     },
     "execution_count": 26,
     "metadata": {},
     "output_type": "execute_result"
    }
   ],
   "source": [
    "df['file_format'].unique()\n"
   ],
   "metadata": {
    "collapsed": false,
    "pycharm": {
     "name": "#%%\n"
    }
   }
  },
  {
   "cell_type": "code",
   "execution_count": 27,
   "outputs": [],
   "source": [
    "get_width_and_height = lambda path: Image.open(path).size\n",
    "df['img_size'] = df['path'].apply(get_width_and_height)\n"
   ],
   "metadata": {
    "collapsed": false,
    "pycharm": {
     "name": "#%%\n"
    }
   }
  },
  {
   "cell_type": "code",
   "execution_count": 29,
   "outputs": [
    {
     "data": {
      "text/plain": "<Figure size 432x288 with 1 Axes>",
      "image/png": "[encoded data removed]"
     },
     "metadata": {
      "needs_background": "light"
     },
     "output_type": "display_data"
    }
   ],
   "source": [
    "sns.countplot(data=df, x=\"img_size\")\n",
    "plt.title(\"Wykres słupkowy wymiarów obrazów dla zbioru MVS\")\n",
    "plt.xlabel(\"Szerokość i wysokość zdjęcia\")\n",
    "plt.ylabel(\"Liczba\")\n",
    "plt.savefig(\"../reports/figures/mvs_image_size.png\")\n"
   ],
   "metadata": {
    "collapsed": false,
    "pycharm": {
     "name": "#%%\n"
    }
   }
  },
  {
   "cell_type": "code",
   "execution_count": 37,
   "outputs": [],
   "source": [
    "summed_matrix = np.zeros(shape=(1200,1600,3))\n",
    "for index, row in df.iterrows():\n",
    "    img_matrix = np.asarray(Image.open(row['path']).convert('RGB'))\n",
    "    summed_matrix = summed_matrix + img_matrix\n",
    "\n",
    "avg_matrix = summed_matrix/len(df)\n",
    "avg_matrix = avg_matrix.astype('uint8')"
   ],
   "metadata": {
    "collapsed": false,
    "pycharm": {
     "name": "#%%\n"
    }
   }
  },
  {
   "cell_type": "code",
   "execution_count": 38,
   "outputs": [],
   "source": [
    "averaged_out_image = Image.fromarray(avg_matrix, \"RGB\")\n",
    "averaged_out_image.save(\"../reports/figures/mvs_averaged_out_image.png\")"
   ],
   "metadata": {
    "collapsed": false,
    "pycharm": {
     "name": "#%%\n"
    }
   }
  }
 ],
 "metadata": {
  "kernelspec": {
   "display_name": "Python 3",
   "language": "python",
   "name": "python3"
  },
  "language_info": {
   "codemirror_mode": {
    "name": "ipython",
    "version": 2
   },
   "file_extension": ".py",
   "mimetype": "text/x-python",
   "name": "python",
   "nbconvert_exporter": "python",
   "pygments_lexer": "ipython2",
   "version": "2.7.6"
  }
 },
 "nbformat": 4,
 "nbformat_minor": 0
}