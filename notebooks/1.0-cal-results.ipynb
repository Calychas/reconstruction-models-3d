{
 "cells": [
  {
   "cell_type": "code",
   "execution_count": 2,
   "metadata": {},
   "outputs": [],
   "source": [
    "import pandas as pd\n",
    "import numpy as np\n",
    "import os\n",
    "from settings import REPORTS_DIR\n",
    "import plotly.express as px\n"
   ]
  },
  {
   "cell_type": "code",
   "execution_count": 2,
   "metadata": {},
   "outputs": [],
   "source": [
    "df = pd.read_csv(os.path.join(REPORTS_DIR, \"sfm_mvs_results.csv\"))"
   ]
  },
  {
   "cell_type": "code",
   "execution_count": 3,
   "metadata": {},
   "outputs": [],
   "source": [
    "SFM_PATH = os.path.join(REPORTS_DIR, \"figures\", \"sfm\")"
   ]
  },
  {
   "cell_type": "code",
   "execution_count": 16,
   "metadata": {},
   "outputs": [],
   "source": [
    "fig = px.box(df, points=\"all\", title=\"SfM na zbiorze MVS - różne wersje modeli\", )\n",
    "fig.update_layout(xaxis_title=\"Wersja modeli\", yaxis_title=\"IoU\", showlegend=False)\n",
    "fig.write_image(os.path.join(SFM_PATH, \"sfm_mvs_results_box.png\"))\n",
    "fig.show(renderer=\"browser\")"
   ]
  },
  {
   "cell_type": "code",
   "execution_count": 17,
   "metadata": {},
   "outputs": [],
   "source": [
    "df_mean = df.mean()\n",
    "fig = px.bar(df_mean)\n",
    "fig.update_layout(xaxis_title=\"Wersja modeli\", yaxis_title=\"Średnie IoU\", showlegend=False)\n",
    "fig.write_image(os.path.join(SFM_PATH, \"sfm_mvs_results_bar.png\"))\n",
    "fig.show(renderer=\"browser\")"
   ]
  },
  {
   "cell_type": "code",
   "execution_count": 16,
   "metadata": {},
   "outputs": [
    {
     "data": {
      "text/html": "<div>\n<style scoped>\n    .dataframe tbody tr th:only-of-type {\n        vertical-align: middle;\n    }\n\n    .dataframe tbody tr th {\n        vertical-align: top;\n    }\n\n    .dataframe thead th {\n        text-align: right;\n    }\n</style>\n<table border=\"1\" class=\"dataframe\">\n  <thead>\n    <tr style=\"text-align: right;\">\n      <th></th>\n      <th>images</th>\n      <th>seconds</th>\n    </tr>\n  </thead>\n  <tbody>\n    <tr>\n      <th>0</th>\n      <td>13</td>\n      <td>115</td>\n    </tr>\n    <tr>\n      <th>1</th>\n      <td>25</td>\n      <td>217</td>\n    </tr>\n    <tr>\n      <th>2</th>\n      <td>37</td>\n      <td>327</td>\n    </tr>\n    <tr>\n      <th>3</th>\n      <td>49</td>\n      <td>473</td>\n    </tr>\n    <tr>\n      <th>4</th>\n      <td>98</td>\n      <td>894</td>\n    </tr>\n  </tbody>\n</table>\n</div>",
      "text/plain": "   images  seconds\n0      13      115\n1      25      217\n2      37      327\n3      49      473\n4      98      894"
     },
     "execution_count": 16,
     "metadata": {},
     "output_type": "execute_result"
    }
   ],
   "source": [
    "df = pd.read_csv(os.path.join(REPORTS_DIR, \"sfm_mvs_results_time.csv\"))\n",
    "df"
   ]
  },
  {
   "cell_type": "code",
   "execution_count": 17,
   "metadata": {},
   "outputs": [],
   "source": [
    "fig = px.line(df, x=\"images\", y=\"seconds\", title=\"Czas przetwarzania dla różnej liczby zdjęć dla modelu królika ze zbioru MVS\")\n",
    "fig.update_layout(xaxis_title=\"Liczba zdjęć\", yaxis_title=\"Czas przetwarzania (sekundy)\", showlegend=False)\n",
    "fig.write_image(os.path.join(SFM_PATH, \"sfm_mvs_results_time_bar.png\"))\n",
    "fig.show(renderer=\"browser\")"
   ]
  }
 ],
 "metadata": {
  "kernelspec": {
   "display_name": "Python 3",
   "language": "python",
   "name": "python3"
  },
  "language_info": {
   "codemirror_mode": {
    "name": "ipython",
    "version": 3
   },
   "file_extension": ".py",
   "mimetype": "text/x-python",
   "name": "python",
   "nbconvert_exporter": "python",
   "pygments_lexer": "ipython3",
   "version": "3.8.2"
  },
  "orig_nbformat": 2
 },
 "nbformat": 4,
 "nbformat_minor": 2
}