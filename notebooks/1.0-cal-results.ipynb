{
 "cells": [
  {
   "cell_type": "code",
   "execution_count": 1,
   "metadata": {},
   "outputs": [],
   "source": [
    "import pandas as pd\n",
    "import numpy as np\n",
    "import os\n",
    "from settings import REPORTS_DIR\n",
    "import plotly.express as px\n"
   ]
  },
  {
   "cell_type": "code",
   "execution_count": 2,
   "metadata": {},
   "outputs": [],
   "source": [
    "df = pd.read_csv(os.path.join(REPORTS_DIR, \"sfm_mvs_results.csv\"))"
   ]
  },
  {
   "cell_type": "code",
   "execution_count": 3,
   "metadata": {},
   "outputs": [],
   "source": [
    "SFM_PATH = os.path.join(REPORTS_DIR, \"figures\", \"sfm\")"
   ]
  },
  {
   "cell_type": "code",
   "execution_count": 16,
   "metadata": {},
   "outputs": [],
   "source": [
    "fig = px.box(df, points=\"all\", title=\"SfM na zbiorze MVS - różne wersje modeli\", )\n",
    "fig.update_layout(xaxis_title=\"Wersja modeli\", yaxis_title=\"IoU\", showlegend=False)\n",
    "fig.write_image(os.path.join(SFM_PATH, \"sfm_mvs_results_box.png\"))\n",
    "fig.show(renderer=\"browser\")"
   ]
  },
  {
   "cell_type": "code",
   "execution_count": 17,
   "metadata": {},
   "outputs": [],
   "source": [
    "df_mean = df.mean()\n",
    "fig = px.bar(df_mean)\n",
    "fig.update_layout(xaxis_title=\"Wersja modeli\", yaxis_title=\"Średnie IoU\", showlegend=False)\n",
    "fig.write_image(os.path.join(SFM_PATH, \"sfm_mvs_results_bar.png\"))\n",
    "fig.show(renderer=\"browser\")"
   ]
  },
  {
   "cell_type": "code",
   "execution_count": null,
   "metadata": {},
   "outputs": [],
   "source": []
  }
 ],
 "metadata": {
  "kernelspec": {
   "display_name": "Python 3",
   "language": "python",
   "name": "python3"
  },
  "language_info": {
   "codemirror_mode": {
    "name": "ipython",
    "version": 3
   },
   "file_extension": ".py",
   "mimetype": "text/x-python",
   "name": "python",
   "nbconvert_exporter": "python",
   "pygments_lexer": "ipython3",
   "version": "3.8.2"
  },
  "orig_nbformat": 2
 },
 "nbformat": 4,
 "nbformat_minor": 2
}