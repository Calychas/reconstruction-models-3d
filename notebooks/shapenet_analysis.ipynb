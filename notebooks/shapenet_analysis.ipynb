{
 "cells": [
  {
   "cell_type": "code",
   "execution_count": 1,
   "metadata": {
    "collapsed": true
   },
   "outputs": [],
   "source": [
    "import os\n",
    "import pandas as pd\n",
    "import seaborn as sns\n",
    "from PIL import Image\n",
    "import numpy as np\n",
    "import matplotlib.pyplot as plt\n",
    "\n",
    "path_to_shapenet_images = \"../data/ShapeNet/ShapeNetRendering\"\n",
    "path_to_shapenet_models = \"../data/ShapeNet/ShapeNetVox32\""
   ]
  },
  {
   "cell_type": "code",
   "execution_count": 4,
   "outputs": [
    {
     "name": "stdout",
     "output_type": "stream",
     "text": [
      "Model at path ../data/ShapeNet/ShapeNetVox32\\04090263\\4a32519f44dc84aabafe26e2eb69ebf4 does not exist for images at path: ../data/ShapeNet/ShapeNetRendering\\04090263\\4a32519f44dc84aabafe26e2eb69ebf4\n"
     ]
    }
   ],
   "source": [
    "number_of_models = 0\n",
    "number_of_all_images = 0\n",
    "images_with_models_paths = []\n",
    "taxonomy_folders = os.listdir(path_to_shapenet_images)\n",
    "for taxonomy in taxonomy_folders:\n",
    "    if os.path.isdir(path_to_shapenet_images + os.path.sep + taxonomy):\n",
    "        model_folders = os.listdir(path_to_shapenet_images + os.path.sep + taxonomy)\n",
    "        for model_folder in model_folders:\n",
    "\n",
    "            path_to_model = path_to_shapenet_models + os.path.sep + taxonomy + os.path.sep + model_folder + os.path.sep + \"model.binvox\"\n",
    "            if os.path.exists(path_to_model):\n",
    "                number_of_models +=1\n",
    "                model_exists = True\n",
    "            else:\n",
    "                print(f\"Model at path {path_to_shapenet_models + os.path.sep + taxonomy + os.path.sep + model_folder} does not exist for images at path: {path_to_shapenet_images + os.path.sep + taxonomy + os.path.sep + model_folder}\")\n",
    "                model_exists = False\n",
    "\n",
    "            images_paths = os.listdir(path_to_shapenet_images + os.path.sep + taxonomy + os.path.sep + model_folder + os.path.sep + \"rendering\")\n",
    "            for image_path in images_paths:\n",
    "                full_image_path = path_to_shapenet_images + os.path.sep + taxonomy + os.path.sep + model_folder + os.path.sep + \"rendering\" +os.path.sep + image_path\n",
    "                if os.path.exists(full_image_path):\n",
    "                    number_of_all_images +=1\n",
    "                    if model_exists:\n",
    "                        images_with_models_paths.append(full_image_path)\n"
   ],
   "metadata": {
    "collapsed": false,
    "pycharm": {
     "name": "#%%\n"
    }
   }
  },
  {
   "cell_type": "code",
   "execution_count": 7,
   "outputs": [],
   "source": [
    "df = pd.DataFrame(data={\"path\": images_with_models_paths})"
   ],
   "metadata": {
    "collapsed": false,
    "pycharm": {
     "name": "#%%\n"
    }
   }
  },
  {
   "cell_type": "code",
   "execution_count": 8,
   "outputs": [],
   "source": [
    "get_file_format = lambda path: path.split(\".\")[-1]\n",
    "df['file_format'] = df['path'].apply(get_file_format)"
   ],
   "metadata": {
    "collapsed": false,
    "pycharm": {
     "name": "#%%\n"
    }
   }
  },
  {
   "cell_type": "code",
   "execution_count": 9,
   "outputs": [
    {
     "data": {
      "text/plain": "array(['png', 'txt'], dtype=object)"
     },
     "execution_count": 9,
     "metadata": {},
     "output_type": "execute_result"
    }
   ],
   "source": [
    "df['file_format'].unique()"
   ],
   "metadata": {
    "collapsed": false,
    "pycharm": {
     "name": "#%%\n"
    }
   }
  },
  {
   "cell_type": "code",
   "execution_count": 10,
   "outputs": [],
   "source": [
    "df = df[df['path'].str.endswith(\".png\")]\n"
   ],
   "metadata": {
    "collapsed": false,
    "pycharm": {
     "name": "#%%\n"
    }
   }
  },
  {
   "cell_type": "code",
   "execution_count": 15,
   "outputs": [
    {
     "name": "stdout",
     "output_type": "stream",
     "text": [
      "Number of models in the ShapeNet dataset: 43783\n",
      "Number of all images in the ShapeNet dataset: 1050816\n",
      "Number of images for models in the ShapeNet dataset: 1050792\n"
     ]
    }
   ],
   "source": [
    "print(f\"Number of models in the ShapeNet dataset: {number_of_models}\")\n",
    "print(f\"Number of all images in the ShapeNet dataset: {number_of_all_images - (len(images_with_models_paths) - df['path'].count()+ 2)}\")\n",
    "print(f\"Number of images for models in the ShapeNet dataset: {df['path'].count()}\")\n",
    "# This happens because images at\n",
    "# data/ShapeNet/ShapeNetRendering/04090263/4a32519f44dc84aabafe26e2eb69ebf4/rendering\n",
    "# and these images don't appropriate model. It is not a problem\n",
    "# since these images don't show any model."
   ],
   "metadata": {
    "collapsed": false,
    "pycharm": {
     "name": "#%%\n"
    }
   }
  },
  {
   "cell_type": "code",
   "execution_count": 16,
   "outputs": [],
   "source": [
    "get_width_and_height = lambda path: Image.open(path).size\n",
    "df['img_size'] = df['path'].apply(get_width_and_height)\n"
   ],
   "metadata": {
    "collapsed": false,
    "pycharm": {
     "name": "#%%\n"
    }
   }
  },
  {
   "cell_type": "code",
   "execution_count": 82,
   "outputs": [
    {
     "data": {
      "text/plain": "<Figure size 432x288 with 1 Axes>",
      "image/png": "[encoded data removed]"
     },
     "metadata": {
      "needs_background": "light"
     },
     "output_type": "display_data"
    }
   ],
   "source": [
    "sns.countplot(data=df, x=\"img_size\")\n",
    "plt.title(\"Wykres słupkowy wymiarów obrazów dla zbioru ShapeNet\")\n",
    "plt.xlabel(\"Szerokość i wysokość zdjęcia\")\n",
    "plt.ylabel(\"Liczba\")\n",
    "plt.savefig(\"../reports/figures/shapenet_image_size.png\")"
   ],
   "metadata": {
    "collapsed": false,
    "pycharm": {
     "name": "#%%\n"
    }
   }
  },
  {
   "cell_type": "code",
   "execution_count": 71,
   "outputs": [],
   "source": [
    "summed_matrix = np.zeros(shape=(137,137,4))\n",
    "for index, row in df.iterrows():\n",
    "    img_matrix = np.asarray(Image.open(row['path']).convert('RGBA'))\n",
    "    summed_matrix = summed_matrix + img_matrix\n",
    "\n",
    "avg_matrix = summed_matrix/len(df)\n",
    "avg_matrix = avg_matrix.astype('uint8')"
   ],
   "metadata": {
    "collapsed": false,
    "pycharm": {
     "name": "#%%\n"
    }
   }
  },
  {
   "cell_type": "code",
   "execution_count": 77,
   "outputs": [],
   "source": [
    "averaged_out_image = Image.fromarray(avg_matrix, \"RGBA\")\n",
    "averaged_out_image.save(\"../reports/figures/shapenet_averaged_out_image.png\")"
   ],
   "metadata": {
    "collapsed": false,
    "pycharm": {
     "name": "#%%\n"
    }
   }
  }
 ],
 "metadata": {
  "kernelspec": {
   "display_name": "Python 3",
   "language": "python",
   "name": "python3"
  },
  "language_info": {
   "codemirror_mode": {
    "name": "ipython",
    "version": 2
   },
   "file_extension": ".py",
   "mimetype": "text/x-python",
   "name": "python",
   "nbconvert_exporter": "python",
   "pygments_lexer": "ipython2",
   "version": "2.7.6"
  }
 },
 "nbformat": 4,
 "nbformat_minor": 0
}