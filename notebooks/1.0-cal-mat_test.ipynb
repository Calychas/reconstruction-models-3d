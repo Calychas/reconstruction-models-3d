{
 "cells": [
  {
   "cell_type": "code",
   "execution_count": 2,
   "metadata": {},
   "outputs": [],
   "source": [
    "import scipy.io\n",
    "mat = scipy.io.loadmat('D:\\Projekty\\Programowanie\\Studia\\Semestr9\\cv\\AOiW_project_3d_modelling\\data\\mvs_dataset\\ObsMask\\OBSMASK1_10.mat')"
   ]
  },
  {
   "cell_type": "code",
   "execution_count": 9,
   "metadata": {},
   "outputs": [
    {
     "data": {
      "text/plain": "{'__header__': b'MATLAB 5.0 MAT-file, Platform: PCWIN64, Created on: Wed Mar 27 13:27:15 2013',\n '__version__': '1.0',\n '__globals__': [],\n 'cSet': array([[1]], dtype=uint8),\n 'Res': array([[1]], dtype=uint8),\n 'Margin': array([[10]], dtype=uint8),\n 'BB': array([[ -55, -176,  495],\n        [ 128,  173,  804]], dtype=int16),\n 'ObsMask': array([[[0, 0, 0, ..., 0, 0, 0],\n         [0, 0, 0, ..., 0, 0, 0],\n         [0, 0, 0, ..., 0, 0, 0],\n         ...,\n         [0, 0, 0, ..., 0, 0, 0],\n         [0, 0, 0, ..., 0, 0, 0],\n         [0, 0, 0, ..., 0, 0, 0]],\n \n        [[0, 0, 0, ..., 0, 0, 0],\n         [0, 0, 0, ..., 0, 0, 0],\n         [0, 0, 0, ..., 0, 0, 0],\n         ...,\n         [0, 0, 0, ..., 0, 0, 0],\n         [0, 0, 0, ..., 0, 0, 0],\n         [0, 0, 0, ..., 0, 0, 0]],\n \n        [[0, 0, 0, ..., 0, 0, 0],\n         [0, 0, 0, ..., 0, 0, 0],\n         [0, 0, 0, ..., 0, 0, 0],\n         ...,\n         [0, 0, 0, ..., 0, 0, 0],\n         [0, 0, 0, ..., 0, 0, 0],\n         [0, 0, 0, ..., 0, 0, 0]],\n \n        ...,\n \n        [[1, 1, 1, ..., 0, 0, 0],\n         [1, 1, 1, ..., 0, 0, 0],\n         [1, 1, 1, ..., 0, 0, 1],\n         ...,\n         [1, 1, 1, ..., 0, 0, 0],\n         [1, 1, 1, ..., 0, 0, 0],\n         [1, 1, 1, ..., 0, 0, 0]],\n \n        [[1, 1, 1, ..., 0, 0, 0],\n         [1, 1, 1, ..., 0, 0, 0],\n         [1, 1, 1, ..., 0, 0, 0],\n         ...,\n         [1, 1, 1, ..., 0, 0, 0],\n         [1, 1, 1, ..., 0, 0, 0],\n         [1, 1, 1, ..., 0, 0, 0]],\n \n        [[1, 1, 1, ..., 0, 0, 0],\n         [1, 1, 1, ..., 0, 0, 0],\n         [1, 1, 1, ..., 0, 0, 0],\n         ...,\n         [1, 1, 1, ..., 0, 0, 0],\n         [1, 1, 1, ..., 0, 0, 0],\n         [1, 1, 1, ..., 0, 0, 0]]], dtype=uint8),\n 'time': array([[2013.   ,    3.   ,   27.   ,   13.   ,   27.   ,   15.012]])}"
     },
     "execution_count": 9,
     "metadata": {},
     "output_type": "execute_result"
    }
   ],
   "source": [
    "mat\n"
   ]
  },
  {
   "cell_type": "code",
   "execution_count": null,
   "metadata": {},
   "outputs": [],
   "source": []
  }
 ],
 "metadata": {
  "kernelspec": {
   "display_name": "Python 3",
   "language": "python",
   "name": "python3"
  },
  "language_info": {
   "codemirror_mode": {
    "name": "ipython",
    "version": 3
   },
   "file_extension": ".py",
   "mimetype": "text/x-python",
   "name": "python",
   "nbconvert_exporter": "python",
   "pygments_lexer": "ipython3",
   "version": "3.8.2-final"
  },
  "orig_nbformat": 2
 },
 "nbformat": 4,
 "nbformat_minor": 2
}